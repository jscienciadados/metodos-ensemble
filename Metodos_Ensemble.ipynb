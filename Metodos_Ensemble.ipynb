{
  "nbformat": 4,
  "nbformat_minor": 0,
  "metadata": {
    "colab": {
      "name": "Metodos-Ensemble.ipynb",
      "provenance": [],
      "authorship_tag": "ABX9TyPxxICV87rJ5o6yXAzzJrX8",
      "include_colab_link": true
    },
    "kernelspec": {
      "name": "python3",
      "display_name": "Python 3"
    },
    "language_info": {
      "name": "python"
    }
  },
  "cells": [
    {
      "cell_type": "markdown",
      "metadata": {
        "id": "view-in-github",
        "colab_type": "text"
      },
      "source": [
        "<a href=\"https://colab.research.google.com/github/jscienciadados/metodos-ensemble/blob/main/Metodos_Ensemble.ipynb\" target=\"_parent\"><img src=\"https://colab.research.google.com/assets/colab-badge.svg\" alt=\"Open In Colab\"/></a>"
      ]
    },
    {
      "cell_type": "markdown",
      "metadata": {
        "id": "H0Is6zg3S6xG"
      },
      "source": [
        "## Machine Learning\n",
        "## Métodos Ensemble"
      ]
    },
    {
      "cell_type": "markdown",
      "metadata": {
        "id": "PtCFk5k3TX3h"
      },
      "source": [
        "## Bagging\n",
        "\n",
        "Bagging é usado para construção de múltiplos modelos (normalmente do mesmo tipo) a partir de diferentes subsets no dataset de treino.\n",
        "\n",
        "http://scikit-learn.org/stable/modules/generated/sklearn.ensemble.BaggingClassifier.html\n",
        "\n",
        "Um classificador Bagging é um meta-estimador ensemble que faz o fit de classificadores base, cada um em subconjuntos aleatórios do conjunto de dados original e, em seguida, agrega suas previsões individuais (por votação ou por média) para formar uma previsão final.\n",
        "\n",
        "Tal meta-estimador pode tipicamente ser usado como uma maneira de reduzir a variância de um estimador (por exemplo, uma árvore de decisão), introduzindo a randomização em seu procedimento de construção e fazendo um ensemble (conjunto) a partir dele."
      ]
    },
    {
      "cell_type": "code",
      "metadata": {
        "id": "08jcOzS2S2TH"
      },
      "source": [
        "# Imports\n",
        "from sklearn.ensemble import BaggingClassifier\n",
        "from sklearn.neighbors import KNeighborsClassifier\n",
        "from sklearn.datasets import load_digits\n",
        "from sklearn.preprocessing import scale\n",
        "from sklearn.model_selection import cross_val_score\n",
        "import warnings\n",
        "warnings.simplefilter(action='ignore', category=FutureWarning)\n",
        "\n"
      ],
      "execution_count": 1,
      "outputs": []
    },
    {
      "cell_type": "markdown",
      "metadata": {
        "id": "UdEquqFHTwJ6"
      },
      "source": [
        "# Trabalhando com o dataset Dígitos escritos à mão"
      ]
    },
    {
      "cell_type": "code",
      "metadata": {
        "id": "Z3VeDRXhTuP5"
      },
      "source": [
        "# Carga dos Dados\n",
        "digits = load_digits()"
      ],
      "execution_count": 2,
      "outputs": []
    },
    {
      "cell_type": "code",
      "metadata": {
        "colab": {
          "base_uri": "https://localhost:8080/",
          "height": 292
        },
        "id": "oLBm72iAT-J3",
        "outputId": "829a3abc-4d9a-4e86-ebde-906cd8579e79"
      },
      "source": [
        "# Impressão de um dígito\n",
        "import matplotlib.pyplot as plt\n",
        "plt.gray()\n",
        "plt.matshow(digits.images[5])\n",
        "plt.show()\n"
      ],
      "execution_count": 4,
      "outputs": [
        {
          "output_type": "display_data",
          "data": {
            "text/plain": [
              "<Figure size 432x288 with 0 Axes>"
            ]
          },
          "metadata": {
            "tags": []
          }
        },
        {
          "output_type": "display_data",
          "data": {
            "image/png": "[encoded data removed]",
            "text/plain": [
              "<Figure size 288x288 with 1 Axes>"
            ]
          },
          "metadata": {
            "tags": [],
            "needs_background": "light"
          }
        }
      ]
    },
    {
      "cell_type": "markdown",
      "metadata": {
        "id": "klU2yBpjUbXu"
      },
      "source": [
        "# Pré-Processameno"
      ]
    },
    {
      "cell_type": "code",
      "metadata": {
        "id": "_CRQ0ireUJFY"
      },
      "source": [
        "# Coloca os dados na mesma escala\n",
        "data = scale(digits.data)"
      ],
      "execution_count": 5,
      "outputs": []
    },
    {
      "cell_type": "code",
      "metadata": {
        "id": "CoI3DOd2UoA9"
      },
      "source": [
        "# Variaveis preditoras e variavel target\n",
        "X = data\n",
        "y = digits.target"
      ],
      "execution_count": 6,
      "outputs": []
    },
    {
      "cell_type": "markdown",
      "metadata": {
        "id": "JtqEtB86VB-c"
      },
      "source": [
        "# Classificador"
      ]
    },
    {
      "cell_type": "code",
      "metadata": {
        "id": "eVOYe400U1Q0"
      },
      "source": [
        "# Construção do Classificador\n",
        "bagging = BaggingClassifier(KNeighborsClassifier(), max_samples = 0.5, max_features = 0.5)\n",
        "\n"
      ],
      "execution_count": 7,
      "outputs": []
    },
    {
      "cell_type": "code",
      "metadata": {
        "colab": {
          "base_uri": "https://localhost:8080/"
        },
        "id": "UACbEu2fVE9Z",
        "outputId": "bc7ff0d1-c540-4852-bfae-e958738c86a9"
      },
      "source": [
        "bagging"
      ],
      "execution_count": 8,
      "outputs": [
        {
          "output_type": "execute_result",
          "data": {
            "text/plain": [
              "BaggingClassifier(base_estimator=KNeighborsClassifier(algorithm='auto',\n",
              "                                                      leaf_size=30,\n",
              "                                                      metric='minkowski',\n",
              "                                                      metric_params=None,\n",
              "                                                      n_jobs=None,\n",
              "                                                      n_neighbors=5, p=2,\n",
              "                                                      weights='uniform'),\n",
              "                  bootstrap=True, bootstrap_features=False, max_features=0.5,\n",
              "                  max_samples=0.5, n_estimators=10, n_jobs=None,\n",
              "                  oob_score=False, random_state=None, verbose=0,\n",
              "                  warm_start=False)"
            ]
          },
          "metadata": {
            "tags": []
          },
          "execution_count": 8
        }
      ]
    },
    {
      "cell_type": "markdown",
      "metadata": {
        "id": "tDBA2q9mVNfB"
      },
      "source": [
        "# Avaliação"
      ]
    },
    {
      "cell_type": "code",
      "metadata": {
        "id": "5EgCvGUKVGte"
      },
      "source": [
        "# score\n",
        "score = cross_val_score(bagging, X, y)"
      ],
      "execution_count": 9,
      "outputs": []
    },
    {
      "cell_type": "code",
      "metadata": {
        "id": "kKjZO277VXGB"
      },
      "source": [
        "# Media dos scores\n",
        "mean = score.mean()"
      ],
      "execution_count": 10,
      "outputs": []
    },
    {
      "cell_type": "code",
      "metadata": {
        "colab": {
          "base_uri": "https://localhost:8080/"
        },
        "id": "yL9HER95Ve60",
        "outputId": "aa7eb12f-9f50-4234-dfdc-d736501cb3b0"
      },
      "source": [
        "print(score)"
      ],
      "execution_count": 11,
      "outputs": [
        {
          "output_type": "stream",
          "text": [
            "[0.91944444 0.92222222 0.95543175 0.98050139 0.93036212]\n"
          ],
          "name": "stdout"
        }
      ]
    },
    {
      "cell_type": "code",
      "metadata": {
        "colab": {
          "base_uri": "https://localhost:8080/"
        },
        "id": "Ejqznj1bVjoY",
        "outputId": "4ee56060-e179-4aca-edef-1bc3deabab41"
      },
      "source": [
        "print(mean)"
      ],
      "execution_count": 12,
      "outputs": [
        {
          "output_type": "stream",
          "text": [
            "0.9415923862581244\n"
          ],
          "name": "stdout"
        }
      ]
    },
    {
      "cell_type": "markdown",
      "metadata": {
        "id": "KGC18oScV9Pg"
      },
      "source": [
        "Extremely Randomized Trees (ExtraTrees)\n",
        "\n",
        "http://scikit-learn.org/stable/modules/generated/sklearn.ensemble.ExtraTreesClassifier.html\n",
        "\n",
        "http://scikit-learn.org/stable/modules/generated/sklearn.ensemble.RandomForestClassifier.html"
      ]
    },
    {
      "cell_type": "code",
      "metadata": {
        "id": "isrbDrScVnl3"
      },
      "source": [
        "# Imports\n",
        "from sklearn.ensemble import RandomForestClassifier\n",
        "from sklearn.ensemble import ExtraTreesClassifier\n",
        "from sklearn.tree import DecisionTreeClassifier\n",
        "from sklearn.datasets import load_digits\n",
        "from sklearn.preprocessing import scale\n",
        "from sklearn.model_selection import cross_val_score\n",
        "\n"
      ],
      "execution_count": 13,
      "outputs": []
    },
    {
      "cell_type": "markdown",
      "metadata": {
        "id": "x0KZWRR8WGQT"
      },
      "source": [
        "# Dígitos Escritos à Mão"
      ]
    },
    {
      "cell_type": "code",
      "metadata": {
        "colab": {
          "base_uri": "https://localhost:8080/"
        },
        "id": "YPkiyS0GWEmA",
        "outputId": "3d4d4095-bad5-4010-ddd0-5091433c3f1b"
      },
      "source": [
        "# Cria o classificador com uma árvore de decisão\n",
        "clf = DecisionTreeClassifier(max_depth = None, min_samples_split = 2, random_state = 0)\n",
        "scores = cross_val_score(clf, X, y)\n",
        "mean = scores.mean()\n",
        "print(scores)\n",
        "print(mean)\n",
        "\n"
      ],
      "execution_count": 14,
      "outputs": [
        {
          "output_type": "stream",
          "text": [
            "[0.78055556 0.71388889 0.80779944 0.8356546  0.79665738]\n",
            "0.7869111730114515\n"
          ],
          "name": "stdout"
        }
      ]
    },
    {
      "cell_type": "code",
      "metadata": {
        "colab": {
          "base_uri": "https://localhost:8080/"
        },
        "id": "ZYzSasBNWnFj",
        "outputId": "3595fe1e-a578-4ffc-f39d-442dff7cccc8"
      },
      "source": [
        "# Cria o classificador com Random Forest\n",
        "clf = RandomForestClassifier(n_estimators = 10, max_depth = None, min_samples_split = 2, random_state = 0)\n",
        "scores = cross_val_score(clf, X, y)\n",
        "mean = scores.mean()\n",
        "print(scores)\n",
        "print(mean)\n",
        "\n"
      ],
      "execution_count": 15,
      "outputs": [
        {
          "output_type": "stream",
          "text": [
            "[0.89166667 0.88055556 0.91643454 0.93036212 0.90807799]\n",
            "0.9054193748065614\n"
          ],
          "name": "stdout"
        }
      ]
    },
    {
      "cell_type": "code",
      "metadata": {
        "colab": {
          "base_uri": "https://localhost:8080/"
        },
        "id": "I5oxCEdlWs9h",
        "outputId": "0204d171-a6e3-4bd1-f253-a725e4f55358"
      },
      "source": [
        "# Cria o classificador com Extra Tree\n",
        "clf = ExtraTreesClassifier(n_estimators = 10, max_depth = None, min_samples_split = 2, random_state = 0)\n",
        "scores = cross_val_score(clf, X, y)\n",
        "mean = scores.mean()\n",
        "print(scores)\n",
        "print(mean)\n",
        "\n"
      ],
      "execution_count": 16,
      "outputs": [
        {
          "output_type": "stream",
          "text": [
            "[0.90277778 0.86944444 0.93593315 0.95264624 0.91364903]\n",
            "0.9148901268956979\n"
          ],
          "name": "stdout"
        }
      ]
    },
    {
      "cell_type": "markdown",
      "metadata": {
        "id": "rojX9cDPYMpI"
      },
      "source": [
        "## **Adaboost**\n",
        "\n",
        "http://scikit-learn.org/stable/modules/generated/sklearn.ensemble.AdaBoostClassifier.html\n",
        "\n",
        "Um classificador AdaBoost é um meta-estimador que começa ajustando um classificador no conjunto de dados original e depois ajusta cópias adicionais do classificador no mesmo conjunto de dados, mas onde os pesos das instâncias classificadas incorretamente são ajustados para que os classificadores subsequentes se concentrem mais em casos difíceis."
      ]
    },
    {
      "cell_type": "code",
      "metadata": {
        "id": "PDcn2H3qWzUk"
      },
      "source": [
        "# Import\n",
        "import numpy as np\n",
        "from sklearn.tree import DecisionTreeClassifier\n",
        "from sklearn.ensemble import AdaBoostClassifier\n",
        "from sklearn.datasets import fetch_openml\n",
        "from sklearn.model_selection import cross_val_score\n",
        "\n"
      ],
      "execution_count": 17,
      "outputs": []
    },
    {
      "cell_type": "code",
      "metadata": {
        "id": "iRUCR7FOYYqM"
      },
      "source": [
        "# Carregandos os dados\n",
        "# https://scikit-learn.org/stable/modules/generated/sklearn.datasets.fetch_openml.html\n",
        "# https://archive.ics.uci.edu/ml/datasets/Heart+Disease\n",
        "heart = fetch_openml(\"heart\")\n",
        "\n"
      ],
      "execution_count": 18,
      "outputs": []
    },
    {
      "cell_type": "code",
      "metadata": {
        "colab": {
          "base_uri": "https://localhost:8080/"
        },
        "id": "l-TSIHA9Yd3Y",
        "outputId": "db8464cd-3e0f-4eab-bccf-cfe67ae2434b"
      },
      "source": [
        "heart"
      ],
      "execution_count": 19,
      "outputs": [
        {
          "output_type": "execute_result",
          "data": {
            "text/plain": [
              "{'DESCR': '**Author**: Laboratory of Artificial Intelligence and Computer Science of the University of Porto (LIACC)  \\nlibSVM\",\"AAD group  \\n**Source**: [original](http://www.csie.ntu.edu.tw/~cjlin/libsvmtools/datasets/binary.html) - Date unknown  \\n**Please cite**:   \\n\\n#Dataset from the LIBSVM data repository.\\n\\nPreprocessing: scaled to [-1,1]\\n\\nDownloaded from openml.org.',\n",
              " 'categories': {},\n",
              " 'data': <270x13 sparse matrix of type '<class 'numpy.float64'>'\n",
              " \twith 3378 stored elements in Compressed Sparse Row format>,\n",
              " 'details': {'contributor': ['libSVM', 'AAD group'],\n",
              "  'creator': 'Laboratory of Artificial Intelligence and Computer Science of the University of Porto (LIACC)',\n",
              "  'default_target_attribute': 'class',\n",
              "  'description_version': '1',\n",
              "  'file_id': '1594038',\n",
              "  'format': 'Sparse_ARFF',\n",
              "  'id': '1574',\n",
              "  'licence': 'Public',\n",
              "  'md5_checksum': 'f50ad5f44a5aa587e7f3794007182eb2',\n",
              "  'minio_url': 'http://openml1.win.tue.nl/dataset1574/dataset_1574.pq',\n",
              "  'name': 'heart',\n",
              "  'original_data_url': 'http://www.csie.ntu.edu.tw/~cjlin/libsvmtools/datasets/binary.html',\n",
              "  'processing_date': '2018-10-03 21:40:10',\n",
              "  'status': 'active',\n",
              "  'upload_date': '2015-06-02T11:29:13',\n",
              "  'url': 'https://www.openml.org/data/v1/download/1594038/heart.sparse_arff',\n",
              "  'version': '1',\n",
              "  'visibility': 'public'},\n",
              " 'feature_names': ['att_1',\n",
              "  'att_2',\n",
              "  'att_3',\n",
              "  'att_4',\n",
              "  'att_5',\n",
              "  'att_6',\n",
              "  'att_7',\n",
              "  'att_8',\n",
              "  'att_9',\n",
              "  'att_10',\n",
              "  'att_11',\n",
              "  'att_12',\n",
              "  'att_13'],\n",
              " 'frame': None,\n",
              " 'target': array([ 1., -1.,  1., -1., -1., -1.,  1.,  1.,  1.,  1., -1., -1., -1.,\n",
              "         1., -1., -1.,  1.,  1., -1., -1.,  1., -1., -1., -1., -1., -1.,\n",
              "        -1., -1.,  1., -1.,  1., -1., -1.,  1.,  1.,  1.,  1.,  1., -1.,\n",
              "        -1.,  1., -1., -1., -1.,  1., -1.,  1.,  1.,  1.,  1.,  1., -1.,\n",
              "        -1., -1., -1., -1.,  1., -1.,  1.,  1., -1.,  1., -1., -1., -1.,\n",
              "         1., -1.,  1., -1.,  1.,  1., -1., -1., -1., -1.,  1., -1., -1.,\n",
              "        -1., -1.,  1.,  1.,  1., -1., -1., -1., -1., -1., -1.,  1., -1.,\n",
              "         1.,  1.,  1.,  1.,  1., -1.,  1., -1., -1., -1.,  1., -1.,  1.,\n",
              "         1.,  1., -1.,  1.,  1., -1.,  1., -1.,  1., -1., -1., -1.,  1.,\n",
              "         1., -1.,  1.,  1.,  1.,  1., -1., -1., -1.,  1., -1., -1.,  1.,\n",
              "         1.,  1., -1.,  1., -1., -1., -1.,  1., -1., -1.,  1., -1.,  1.,\n",
              "        -1.,  1.,  1.,  1.,  1.,  1., -1., -1., -1., -1., -1., -1., -1.,\n",
              "         1., -1., -1.,  1.,  1.,  1., -1.,  1., -1., -1., -1., -1., -1.,\n",
              "         1., -1.,  1.,  1., -1., -1.,  1.,  1.,  1.,  1., -1., -1.,  1.,\n",
              "         1., -1., -1., -1.,  1., -1., -1.,  1., -1.,  1., -1.,  1., -1.,\n",
              "        -1., -1., -1., -1.,  1., -1.,  1.,  1.,  1.,  1., -1., -1., -1.,\n",
              "         1., -1.,  1., -1., -1.,  1., -1., -1., -1., -1., -1., -1.,  1.,\n",
              "         1., -1.,  1., -1., -1.,  1.,  1., -1., -1.,  1.,  1., -1.,  1.,\n",
              "        -1.,  1., -1.,  1., -1., -1.,  1., -1., -1.,  1., -1.,  1.,  1.,\n",
              "        -1.,  1.,  1.,  1., -1.,  1., -1., -1., -1., -1.,  1.,  1., -1.,\n",
              "        -1.,  1.,  1., -1.,  1., -1., -1., -1., -1.,  1.]),\n",
              " 'target_names': ['class'],\n",
              " 'url': 'https://www.openml.org/d/1574'}"
            ]
          },
          "metadata": {
            "tags": []
          },
          "execution_count": 19
        }
      ]
    },
    {
      "cell_type": "code",
      "metadata": {
        "id": "2FZKa_afYhIN"
      },
      "source": [
        "# Obtendo os dados \n",
        "X = heart.data\n",
        "y = np.copy(heart.target)\n",
        "y[y == -1] = 0\n",
        "\n"
      ],
      "execution_count": 20,
      "outputs": []
    },
    {
      "cell_type": "code",
      "metadata": {
        "colab": {
          "base_uri": "https://localhost:8080/"
        },
        "id": "tIE454i0Y0nJ",
        "outputId": "a897e8b0-e777-426e-a3fe-1eb60ff927d7"
      },
      "source": [
        "X"
      ],
      "execution_count": 21,
      "outputs": [
        {
          "output_type": "execute_result",
          "data": {
            "text/plain": [
              "<270x13 sparse matrix of type '<class 'numpy.float64'>'\n",
              "\twith 3378 stored elements in Compressed Sparse Row format>"
            ]
          },
          "metadata": {
            "tags": []
          },
          "execution_count": 21
        }
      ]
    },
    {
      "cell_type": "code",
      "metadata": {
        "colab": {
          "base_uri": "https://localhost:8080/"
        },
        "id": "TZ88As59Y3lI",
        "outputId": "9337b595-6d32-4b09-8e52-1297e6c9f8e4"
      },
      "source": [
        "y"
      ],
      "execution_count": 22,
      "outputs": [
        {
          "output_type": "execute_result",
          "data": {
            "text/plain": [
              "array([1., 0., 1., 0., 0., 0., 1., 1., 1., 1., 0., 0., 0., 1., 0., 0., 1.,\n",
              "       1., 0., 0., 1., 0., 0., 0., 0., 0., 0., 0., 1., 0., 1., 0., 0., 1.,\n",
              "       1., 1., 1., 1., 0., 0., 1., 0., 0., 0., 1., 0., 1., 1., 1., 1., 1.,\n",
              "       0., 0., 0., 0., 0., 1., 0., 1., 1., 0., 1., 0., 0., 0., 1., 0., 1.,\n",
              "       0., 1., 1., 0., 0., 0., 0., 1., 0., 0., 0., 0., 1., 1., 1., 0., 0.,\n",
              "       0., 0., 0., 0., 1., 0., 1., 1., 1., 1., 1., 0., 1., 0., 0., 0., 1.,\n",
              "       0., 1., 1., 1., 0., 1., 1., 0., 1., 0., 1., 0., 0., 0., 1., 1., 0.,\n",
              "       1., 1., 1., 1., 0., 0., 0., 1., 0., 0., 1., 1., 1., 0., 1., 0., 0.,\n",
              "       0., 1., 0., 0., 1., 0., 1., 0., 1., 1., 1., 1., 1., 0., 0., 0., 0.,\n",
              "       0., 0., 0., 1., 0., 0., 1., 1., 1., 0., 1., 0., 0., 0., 0., 0., 1.,\n",
              "       0., 1., 1., 0., 0., 1., 1., 1., 1., 0., 0., 1., 1., 0., 0., 0., 1.,\n",
              "       0., 0., 1., 0., 1., 0., 1., 0., 0., 0., 0., 0., 1., 0., 1., 1., 1.,\n",
              "       1., 0., 0., 0., 1., 0., 1., 0., 0., 1., 0., 0., 0., 0., 0., 0., 1.,\n",
              "       1., 0., 1., 0., 0., 1., 1., 0., 0., 1., 1., 0., 1., 0., 1., 0., 1.,\n",
              "       0., 0., 1., 0., 0., 1., 0., 1., 1., 0., 1., 1., 1., 0., 1., 0., 0.,\n",
              "       0., 0., 1., 1., 0., 0., 1., 1., 0., 1., 0., 0., 0., 0., 1.])"
            ]
          },
          "metadata": {
            "tags": []
          },
          "execution_count": 22
        }
      ]
    },
    {
      "cell_type": "code",
      "metadata": {
        "id": "aX8s8QJvY5db"
      },
      "source": [
        "# Datasets de treino e de teste\n",
        "X_test, y_test = X[189:], y[189:]\n",
        "X_train, y_train = X[:189], y[:189]\n",
        "\n"
      ],
      "execution_count": 23,
      "outputs": []
    },
    {
      "cell_type": "markdown",
      "metadata": {
        "id": "VChZiySTZaCD"
      },
      "source": [
        "# Uma DecisionTree como algoritmo base para o Addaboost"
      ]
    },
    {
      "cell_type": "code",
      "metadata": {
        "id": "QyG0s9PaZVLf"
      },
      "source": [
        "# Construindo o estimador base\n",
        "estim_base = DecisionTreeClassifier(max_depth = 1, min_samples_leaf = 1)\n",
        "\n"
      ],
      "execution_count": 24,
      "outputs": []
    },
    {
      "cell_type": "code",
      "metadata": {
        "id": "-HGE9pZtZkjy"
      },
      "source": [
        "# Construindo a primeira versão do modelo Adaboost\n",
        "ada_clf_v1 = AdaBoostClassifier(base_estimator = estim_base,\n",
        "                                learning_rate = 0.1,\n",
        "                                n_estimators = 400,\n",
        "                                algorithm = \"SAMME\")\n",
        "\n"
      ],
      "execution_count": 25,
      "outputs": []
    },
    {
      "cell_type": "code",
      "metadata": {
        "colab": {
          "base_uri": "https://localhost:8080/"
        },
        "id": "vIx2UTl-ZqOX",
        "outputId": "3f5a8636-322d-4589-ce8f-92a309b67004"
      },
      "source": [
        "# Treinamento do modelo\n",
        "ada_clf_v1.fit(X_train, y_train)"
      ],
      "execution_count": 26,
      "outputs": [
        {
          "output_type": "execute_result",
          "data": {
            "text/plain": [
              "AdaBoostClassifier(algorithm='SAMME',\n",
              "                   base_estimator=DecisionTreeClassifier(ccp_alpha=0.0,\n",
              "                                                         class_weight=None,\n",
              "                                                         criterion='gini',\n",
              "                                                         max_depth=1,\n",
              "                                                         max_features=None,\n",
              "                                                         max_leaf_nodes=None,\n",
              "                                                         min_impurity_decrease=0.0,\n",
              "                                                         min_impurity_split=None,\n",
              "                                                         min_samples_leaf=1,\n",
              "                                                         min_samples_split=2,\n",
              "                                                         min_weight_fraction_leaf=0.0,\n",
              "                                                         presort='deprecated',\n",
              "                                                         random_state=None,\n",
              "                                                         splitter='best'),\n",
              "                   learning_rate=0.1, n_estimators=400, random_state=None)"
            ]
          },
          "metadata": {
            "tags": []
          },
          "execution_count": 26
        }
      ]
    },
    {
      "cell_type": "markdown",
      "metadata": {
        "id": "gcZcooUbaDH_"
      },
      "source": [
        "# Avaliação"
      ]
    },
    {
      "cell_type": "code",
      "metadata": {
        "colab": {
          "base_uri": "https://localhost:8080/"
        },
        "id": "rA_xemijZ1BF",
        "outputId": "4752551c-9aec-4b2b-ee4f-48c0860e65bd"
      },
      "source": [
        "# Score\n",
        "scores = cross_val_score(ada_clf_v1, X_test, y_test)\n",
        "print(scores)\n",
        "means = scores.mean()\n",
        "print(means)\n",
        "\n"
      ],
      "execution_count": 27,
      "outputs": [
        {
          "output_type": "stream",
          "text": [
            "[0.88235294 0.9375     0.875      0.75       0.6875    ]\n",
            "0.8264705882352942\n"
          ],
          "name": "stdout"
        }
      ]
    },
    {
      "cell_type": "code",
      "metadata": {
        "id": "X8bmH-dLaFiR"
      },
      "source": [
        "# Construindo a segunda versão do modelo Adaboost\n",
        "ada_clf_v2 = AdaBoostClassifier(base_estimator = estim_base,\n",
        "                                learning_rate = 1.0,\n",
        "                                n_estimators = 400,\n",
        "                                algorithm = \"SAMME\")\n",
        "\n"
      ],
      "execution_count": 28,
      "outputs": []
    },
    {
      "cell_type": "code",
      "metadata": {
        "colab": {
          "base_uri": "https://localhost:8080/"
        },
        "id": "Vbcn9FP2ad6i",
        "outputId": "5f523791-ae61-4a8b-a056-c16c617d2ec3"
      },
      "source": [
        "# Treino\n",
        "ada_clf_v2.fit(X_train, y_train)"
      ],
      "execution_count": 29,
      "outputs": [
        {
          "output_type": "execute_result",
          "data": {
            "text/plain": [
              "AdaBoostClassifier(algorithm='SAMME',\n",
              "                   base_estimator=DecisionTreeClassifier(ccp_alpha=0.0,\n",
              "                                                         class_weight=None,\n",
              "                                                         criterion='gini',\n",
              "                                                         max_depth=1,\n",
              "                                                         max_features=None,\n",
              "                                                         max_leaf_nodes=None,\n",
              "                                                         min_impurity_decrease=0.0,\n",
              "                                                         min_impurity_split=None,\n",
              "                                                         min_samples_leaf=1,\n",
              "                                                         min_samples_split=2,\n",
              "                                                         min_weight_fraction_leaf=0.0,\n",
              "                                                         presort='deprecated',\n",
              "                                                         random_state=None,\n",
              "                                                         splitter='best'),\n",
              "                   learning_rate=1.0, n_estimators=400, random_state=None)"
            ]
          },
          "metadata": {
            "tags": []
          },
          "execution_count": 29
        }
      ]
    },
    {
      "cell_type": "code",
      "metadata": {
        "colab": {
          "base_uri": "https://localhost:8080/"
        },
        "id": "PFXBfP8ia1Xw",
        "outputId": "649f38c5-d03d-423b-befe-94e4566cbf01"
      },
      "source": [
        "# Score\n",
        "scores = cross_val_score(ada_clf_v2, X_test, y_test)\n",
        "print(scores)\n",
        "means = scores.mean()\n",
        "print(means)"
      ],
      "execution_count": 31,
      "outputs": [
        {
          "output_type": "stream",
          "text": [
            "[0.82352941 0.875      0.8125     0.8125     0.75      ]\n",
            "0.8147058823529412\n"
          ],
          "name": "stdout"
        }
      ]
    },
    {
      "cell_type": "code",
      "metadata": {
        "id": "0AxFSzmga8pa"
      },
      "source": [
        ""
      ],
      "execution_count": null,
      "outputs": []
    }
  ]
}